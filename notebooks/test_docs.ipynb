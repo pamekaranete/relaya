{
 "cells": [
  {
   "metadata": {},
   "cell_type": "code",
   "source": [
    "import nest_asyncio\n",
    "\n",
    "nest_asyncio.apply()"
   ],
   "id": "12ea143ef0f1e3f7",
   "execution_count": null,
   "outputs": []
  },
  {
   "metadata": {},
   "cell_type": "code",
   "source": [
    "from langchain_huggingface import HuggingFaceEmbeddings\n",
    "\n",
    "\n",
    "def get_embeddings_model():\n",
    "    return HuggingFaceEmbeddings(model_name=\"intfloat/multilingual-e5-small\")"
   ],
   "id": "977e4ebac0d28916",
   "execution_count": null,
   "outputs": []
  },
  {
   "cell_type": "code",
   "id": "initial_id",
   "metadata": {
    "collapsed": true
   },
   "source": [
    "from langchain_community.vectorstores import Chroma\n",
    "\n",
    "db = Chroma(\n",
    "    persist_directory='../chroma_data',\n",
    "    collection_name='test_collection',\n",
    "    embedding_function=get_embeddings_model()\n",
    ")"
   ],
   "execution_count": null,
   "outputs": []
  },
  {
   "metadata": {},
   "cell_type": "code",
   "source": "len(db)",
   "id": "679863843484d457",
   "execution_count": null,
   "outputs": []
  },
  {
   "metadata": {},
   "cell_type": "code",
   "source": [
    "from urllib.parse import urljoin\n",
    "from pathlib import Path\n",
    "from langchain_community.document_loaders import SitemapLoader\n",
    "\n",
    "file_path = Path(\"./sitemap-help.xml\").absolute()\n",
    "\n",
    "docs = SitemapLoader(\n",
    "    file_path,\n",
    "    is_local=True,\n",
    "    filter_urls=[\"https://www.rustore.ru/help/sdk/payments/defold\"],\n",
    "    default_parser=\"lxml\",\n",
    "    continue_on_failure=True\n",
    ").load()"
   ],
   "id": "baddfcadc49368de",
   "execution_count": null,
   "outputs": []
  },
  {
   "metadata": {},
   "cell_type": "code",
   "source": [
    "import logging\n",
    "from langchain_community.document_loaders import SitemapLoader\n",
    "\n",
    "logger = logging.getLogger(__name__)\n",
    "\n",
    "class SitemapLoaderWithChromium(SitemapLoader):\n",
    "    async def _fetch(\n",
    "        self, url: str, retries: int = 3, cooldown: int = 2, backoff: float = 1.5\n",
    "    ) -> str:\n",
    "        \"\"\"\n",
    "        Asynchronously scrape the content of a given URL using Playwright's async API.\n",
    "\n",
    "        Args:\n",
    "            url (str): The URL to scrape.\n",
    "\n",
    "        Returns:\n",
    "            str: The scraped HTML content or an error message if an exception occurs.\n",
    "\n",
    "        \"\"\"\n",
    "        from playwright.async_api import async_playwright\n",
    "\n",
    "        logger.info(\"Starting scraping...\")\n",
    "        results = \"\"\n",
    "        async with async_playwright() as p:\n",
    "            browser = await p.chromium.launch(headless=True)\n",
    "            try:\n",
    "                page = await browser.new_page()\n",
    "                await page.goto(url)\n",
    "                results = await page.content()  # Simply get the HTML content\n",
    "                logger.info(\"Content scraped\")\n",
    "            except Exception as e:\n",
    "                results = f\"Error: {e}\"\n",
    "            await browser.close()\n",
    "        return results"
   ],
   "id": "1638fc1d2be97aa6",
   "execution_count": null,
   "outputs": []
  },
  {
   "metadata": {},
   "cell_type": "code",
   "source": [
    "from pathlib import Path\n",
    "\n",
    "file_path = Path(\"./sitemap-help.xml\").absolute()\n",
    "\n",
    "docs = SitemapLoaderWithChromium(\n",
    "    file_path,\n",
    "    is_local=True,\n",
    "    filter_urls=[\"https://www.rustore.ru/help/sdk/payments/defold\"],\n",
    "    default_parser=\"lxml\",\n",
    "    continue_on_failure=False\n",
    ").load()"
   ],
   "id": "d240a65a176afdcc",
   "execution_count": null,
   "outputs": []
  },
  {
   "metadata": {},
   "cell_type": "code",
   "source": "docs",
   "id": "1b2abb7291f7a59b",
   "execution_count": null,
   "outputs": []
  },
  {
   "metadata": {
    "ExecuteTime": {
     "end_time": "2024-07-06T15:43:38.735682Z",
     "start_time": "2024-07-06T15:43:38.592821Z"
    }
   },
   "cell_type": "code",
   "source": "from langchain_community.chat_models import Replicate",
   "id": "df6365793a8f3262",
   "execution_count": 1,
   "outputs": []
  },
  {
   "metadata": {},
   "cell_type": "code",
   "execution_count": null,
   "source": "Replicate()",
   "id": "8f935bd4df0eaa46",
   "outputs": []
  }
 ],
 "metadata": {
  "kernelspec": {
   "display_name": "Python 3",
   "language": "python",
   "name": "python3"
  },
  "language_info": {
   "codemirror_mode": {
    "name": "ipython",
    "version": 2
   },
   "file_extension": ".py",
   "mimetype": "text/x-python",
   "name": "python",
   "nbconvert_exporter": "python",
   "pygments_lexer": "ipython2",
   "version": "2.7.6"
  }
 },
 "nbformat": 4,
 "nbformat_minor": 5
}
